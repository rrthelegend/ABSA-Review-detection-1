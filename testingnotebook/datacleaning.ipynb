{
 "cells": [
  {
   "cell_type": "code",
   "execution_count": 20,
   "id": "1e92635b",
   "metadata": {},
   "outputs": [
    {
     "name": "stderr",
     "output_type": "stream",
     "text": [
      "[nltk_data] Downloading package stopwords to\n",
      "[nltk_data]     /Users/rahulrajagopal/nltk_data...\n",
      "[nltk_data]   Package stopwords is already up-to-date!\n",
      "[nltk_data] Downloading package punkt to\n",
      "[nltk_data]     /Users/rahulrajagopal/nltk_data...\n",
      "[nltk_data]   Package punkt is already up-to-date!\n",
      "[nltk_data] Downloading package wordnet to\n",
      "[nltk_data]     /Users/rahulrajagopal/nltk_data...\n",
      "[nltk_data]   Package wordnet is already up-to-date!\n",
      "[nltk_data] Downloading package punkt_tab to\n",
      "[nltk_data]     /Users/rahulrajagopal/nltk_data...\n",
      "[nltk_data]   Unzipping tokenizers/punkt_tab.zip.\n"
     ]
    },
    {
     "data": {
      "text/plain": [
       "True"
      ]
     },
     "execution_count": 20,
     "metadata": {},
     "output_type": "execute_result"
    }
   ],
   "source": [
    "import pandas as pd\n",
    "import numpy as np\n",
    "\n",
    "import matplotlib.pyplot as plt\n",
    "import seaborn as sns\n",
    "\n",
    "import nltk\n",
    "import re\n",
    "from nltk.corpus import stopwords\n",
    "from nltk.stem import WordNetLemmatizer\n",
    "\n",
    "nltk.download('stopwords')\n",
    "nltk.download('punkt')\n",
    "nltk.download('wordnet')\n",
    "nltk.download('punkt_tab')\n"
   ]
  },
  {
   "cell_type": "code",
   "execution_count": 7,
   "id": "9e2d3440",
   "metadata": {},
   "outputs": [
    {
     "name": "stdout",
     "output_type": "stream",
     "text": [
      "Dataset shape: (775, 7)\n"
     ]
    },
    {
     "data": {
      "text/html": [
       "<div>\n",
       "<style scoped>\n",
       "    .dataframe tbody tr th:only-of-type {\n",
       "        vertical-align: middle;\n",
       "    }\n",
       "\n",
       "    .dataframe tbody tr th {\n",
       "        vertical-align: top;\n",
       "    }\n",
       "\n",
       "    .dataframe thead th {\n",
       "        text-align: right;\n",
       "    }\n",
       "</style>\n",
       "<table border=\"1\" class=\"dataframe\">\n",
       "  <thead>\n",
       "    <tr style=\"text-align: right;\">\n",
       "      <th></th>\n",
       "      <th>Index</th>\n",
       "      <th>Name</th>\n",
       "      <th>Overall_Rating</th>\n",
       "      <th>Cuisine</th>\n",
       "      <th>Rate for two</th>\n",
       "      <th>City</th>\n",
       "      <th>Review</th>\n",
       "    </tr>\n",
       "  </thead>\n",
       "  <tbody>\n",
       "    <tr>\n",
       "      <th>0</th>\n",
       "      <td>0</td>\n",
       "      <td>Oliver Brown</td>\n",
       "      <td>3.9</td>\n",
       "      <td>Cafe, Coffee, Shake, Juices, Beverages, Waffle...</td>\n",
       "      <td>500</td>\n",
       "      <td>ahmedabad</td>\n",
       "      <td>Been to this place 3-4 times. Prakash is alway...</td>\n",
       "    </tr>\n",
       "    <tr>\n",
       "      <th>1</th>\n",
       "      <td>1</td>\n",
       "      <td>Oliver Brown</td>\n",
       "      <td>3.9</td>\n",
       "      <td>Cafe, Coffee, Shake, Juices, Beverages, Waffle...</td>\n",
       "      <td>500</td>\n",
       "      <td>ahmedabad</td>\n",
       "      <td>I recently visited Oliver Brown on a weekend f...</td>\n",
       "    </tr>\n",
       "    <tr>\n",
       "      <th>2</th>\n",
       "      <td>2</td>\n",
       "      <td>Crush Coffee</td>\n",
       "      <td>3</td>\n",
       "      <td>Cafe, Shake, Beverages, Desserts</td>\n",
       "      <td>600</td>\n",
       "      <td>ahmedabad</td>\n",
       "      <td>Very watery ans thin shake</td>\n",
       "    </tr>\n",
       "    <tr>\n",
       "      <th>3</th>\n",
       "      <td>3</td>\n",
       "      <td>The Mohalla</td>\n",
       "      <td>3.8</td>\n",
       "      <td>Cafe</td>\n",
       "      <td>550</td>\n",
       "      <td>ahmedabad</td>\n",
       "      <td>it was not cheese burst pizza.. only cheeze wa...</td>\n",
       "    </tr>\n",
       "    <tr>\n",
       "      <th>4</th>\n",
       "      <td>4</td>\n",
       "      <td>The Mohalla</td>\n",
       "      <td>3.8</td>\n",
       "      <td>Cafe</td>\n",
       "      <td>550</td>\n",
       "      <td>ahmedabad</td>\n",
       "      <td>Yammi.,....test burger is best I love 💗 this B...</td>\n",
       "    </tr>\n",
       "  </tbody>\n",
       "</table>\n",
       "</div>"
      ],
      "text/plain": [
       "   Index          Name Overall_Rating  \\\n",
       "0      0  Oliver Brown            3.9   \n",
       "1      1  Oliver Brown            3.9   \n",
       "2      2  Crush Coffee              3   \n",
       "3      3   The Mohalla            3.8   \n",
       "4      4   The Mohalla            3.8   \n",
       "\n",
       "                                             Cuisine Rate for two       City  \\\n",
       "0  Cafe, Coffee, Shake, Juices, Beverages, Waffle...          500  ahmedabad   \n",
       "1  Cafe, Coffee, Shake, Juices, Beverages, Waffle...          500  ahmedabad   \n",
       "2                   Cafe, Shake, Beverages, Desserts          600  ahmedabad   \n",
       "3                                               Cafe          550  ahmedabad   \n",
       "4                                               Cafe          550  ahmedabad   \n",
       "\n",
       "                                              Review  \n",
       "0  Been to this place 3-4 times. Prakash is alway...  \n",
       "1  I recently visited Oliver Brown on a weekend f...  \n",
       "2                         Very watery ans thin shake  \n",
       "3  it was not cheese burst pizza.. only cheeze wa...  \n",
       "4  Yammi.,....test burger is best I love 💗 this B...  "
      ]
     },
     "execution_count": 7,
     "metadata": {},
     "output_type": "execute_result"
    }
   ],
   "source": [
    "# Load your dataset\n",
    "df = pd.read_csv(\"../reviews.csv\")\n",
    "\n",
    "# Look at shape and first rows\n",
    "print(\"Dataset shape:\", df.shape)\n",
    "df.head()\n"
   ]
  },
  {
   "cell_type": "code",
   "execution_count": 8,
   "id": "36787c88",
   "metadata": {},
   "outputs": [
    {
     "data": {
      "text/plain": [
       "Index             0\n",
       "Name              0\n",
       "Overall_Rating    0\n",
       "Cuisine           0\n",
       "Rate for two      0\n",
       "City              0\n",
       "Review            0\n",
       "dtype: int64"
      ]
     },
     "execution_count": 8,
     "metadata": {},
     "output_type": "execute_result"
    }
   ],
   "source": [
    "# Check for missing values\n",
    "df.isnull().sum()"
   ]
  },
  {
   "cell_type": "code",
   "execution_count": 9,
   "id": "3fd6799c",
   "metadata": {},
   "outputs": [
    {
     "data": {
      "image/png": "[encoded data removed]",
      "text/plain": [
       "<Figure size 800x400 with 1 Axes>"
      ]
     },
     "metadata": {},
     "output_type": "display_data"
    }
   ],
   "source": [
    "# Compute review length (in words)\n",
    "df['review_length'] = df['Review'].apply(lambda x: len(str(x).split()))\n",
    "\n",
    "# Plot distribution of lengths\n",
    "plt.figure(figsize=(8,4))\n",
    "sns.histplot(df['review_length'], bins=50, kde=True)\n",
    "plt.title(\"Distribution of Review Lengths\")\n",
    "plt.xlabel(\"Number of Words\")\n",
    "plt.ylabel(\"Count\")\n",
    "plt.show()\n"
   ]
  },
  {
   "cell_type": "code",
   "execution_count": 10,
   "id": "dd4ed613",
   "metadata": {},
   "outputs": [
    {
     "data": {
      "image/png": "[encoded data removed]",
      "text/plain": [
       "<Figure size 600x400 with 1 Axes>"
      ]
     },
     "metadata": {},
     "output_type": "display_data"
    }
   ],
   "source": [
    "# Make sure ratings are numeric\n",
    "df['Overall_Rating'] = pd.to_numeric(df['Overall_Rating'], errors='coerce')\n",
    "\n",
    "# Define labeling function\n",
    "def label_sentiment(rating):\n",
    "    if rating <= 2.9:\n",
    "        return \"Negative\"\n",
    "    elif rating <= 3.4:\n",
    "        return \"Neutral\"\n",
    "    else:\n",
    "        return \"Positive\"\n",
    "\n",
    "# Apply to dataset\n",
    "df['Sentiment'] = df['Overall_Rating'].apply(label_sentiment)\n",
    "\n",
    "# Visualize sentiment distribution\n",
    "plt.figure(figsize=(6,4))\n",
    "sns.countplot(x='Sentiment', data=df, order=['Negative','Neutral','Positive'])\n",
    "plt.title(\"Sentiment Distribution\")\n",
    "plt.show()\n"
   ]
  },
  {
   "cell_type": "code",
   "execution_count": 21,
   "id": "16cf9580",
   "metadata": {},
   "outputs": [
    {
     "name": "stdout",
     "output_type": "stream",
     "text": [
      "Processed dataset saved as zomato_processed.csv\n"
     ]
    }
   ],
   "source": [
    "# Initialize tools\n",
    "lemmatizer = WordNetLemmatizer()\n",
    "stop_words = set(stopwords.words(\"english\"))\n",
    "\n",
    "def clean_text(text):\n",
    "    # Lowercase\n",
    "    text = str(text).lower()\n",
    "    # Remove numbers, punctuation, emojis\n",
    "    text = re.sub(r'[^a-z\\s]', '', text)\n",
    "    # Tokenize\n",
    "    tokens = nltk.word_tokenize(text)\n",
    "    # Remove stopwords + short words, then lemmatize\n",
    "    tokens = [lemmatizer.lemmatize(w) for w in tokens if w not in stop_words and len(w) > 2]\n",
    "    return \" \".join(tokens)\n",
    "\n",
    "# Apply cleaning\n",
    "df['Cleaned_Review'] = df['Review'].apply(clean_text)\n",
    "\n",
    "# Show examples\n",
    "df[['Review','Cleaned_Review','Sentiment']].head(10)\n",
    "\n",
    "df.to_csv(\"zomato_processed.csv\", index=False)\n",
    "print(\"Processed dataset saved as zomato_processed.csv\")"
   ]
  },
  {
   "cell_type": "code",
   "execution_count": null,
   "id": "ff976662",
   "metadata": {},
   "outputs": [],
   "source": []
  },
  {
   "cell_type": "code",
   "execution_count": null,
   "id": "4a8bcff9",
   "metadata": {},
   "outputs": [],
   "source": []
  },
  {
   "cell_type": "code",
   "execution_count": null,
   "id": "59af9e20",
   "metadata": {},
   "outputs": [],
   "source": []
  },
  {
   "cell_type": "code",
   "execution_count": null,
   "id": "590f9c26",
   "metadata": {},
   "outputs": [],
   "source": []
  },
  {
   "cell_type": "code",
   "execution_count": null,
   "id": "781bd682",
   "metadata": {},
   "outputs": [],
   "source": []
  },
  {
   "cell_type": "code",
   "execution_count": null,
   "id": "0ca2dc4a",
   "metadata": {},
   "outputs": [],
   "source": []
  },
  {
   "cell_type": "code",
   "execution_count": null,
   "id": "8ad4d606",
   "metadata": {},
   "outputs": [],
   "source": []
  }
 ],
 "metadata": {
  "kernelspec": {
   "display_name": "Python 3",
   "language": "python",
   "name": "python3"
  },
  "language_info": {
   "codemirror_mode": {
    "name": "ipython",
    "version": 3
   },
   "file_extension": ".py",
   "mimetype": "text/x-python",
   "name": "python",
   "nbconvert_exporter": "python",
   "pygments_lexer": "ipython3",
   "version": "3.12.5"
  }
 },
 "nbformat": 4,
 "nbformat_minor": 5
}
